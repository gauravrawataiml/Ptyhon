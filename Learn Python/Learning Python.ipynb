{
 "cells": [
  {
   "cell_type": "markdown",
   "metadata": {
    "id": "mo76rWjhDVHI"
   },
   "source": [
    "Python Programming Language and its features.\n",
    "list of features that are documented.\n",
    "Declaring variables, conditional statements, control flow statements, collections,Functions, Functional programming features of Python,modules and packages."
   ]
  },
  {
   "cell_type": "markdown",
   "metadata": {
    "id": "JYCOhA9wEEuK"
   },
   "source": [
    "**Declaring variables:** In Python, a variable can be declared\n",
    "and then assigned a value without specifying the data types.Because python is a dynamically typed language,\n",
    "it can automatically infer the variable type from the values assigned to it."
   ]
  },
  {
   "cell_type": "markdown",
   "metadata": {
    "id": "JfuIuzwhEXx2"
   },
   "source": [
    "Python supports the following four different types:\n",
    "Integer, Float, Boolean, and String for textual data."
   ]
  },
  {
   "cell_type": "code",
   "execution_count": null,
   "metadata": {
    "executionInfo": {
     "elapsed": 7,
     "status": "ok",
     "timestamp": 1754881219981,
     "user": {
      "displayName": "Gaurav Rawat",
      "userId": "15323900345627092462"
     },
     "user_tz": -330
    },
    "id": "ttml9etuwFvr"
   },
   "outputs": [],
   "source": [
    "#Integer\n",
    "var1 = 25\n",
    "#Float\n",
    "var2 = 5.0\n",
    "#Boolean\n",
    "var3 = True\n",
    "#string\n",
    "var4 = \"Machine learning\""
   ]
  },
  {
   "cell_type": "code",
   "execution_count": null,
   "metadata": {
    "colab": {
     "base_uri": "https://localhost:8080/"
    },
    "executionInfo": {
     "elapsed": 9,
     "status": "ok",
     "timestamp": 1754881223151,
     "user": {
      "displayName": "Gaurav Rawat",
      "userId": "15323900345627092462"
     },
     "user_tz": -330
    },
    "id": "OdvMYE7ywcJn",
    "outputId": "ab49cf06-4370-440a-9cab-e631cc4e10a1"
   },
   "outputs": [],
   "source": [
    "print(\"Value ofVar1: \", var1)\n",
    "print(\"Value ofVar2: \", var2)\n",
    "print(\"Value ofVar3: \", var3)\n",
    "print(\"Value ofVar4: \", var4)"
   ]
  },
  {
   "cell_type": "markdown",
   "metadata": {
    "id": "jqvU2aFNEshB"
   },
   "source": [
    "Check Datatypes of each variables"
   ]
  },
  {
   "cell_type": "code",
   "execution_count": null,
   "metadata": {
    "colab": {
     "base_uri": "https://localhost:8080/"
    },
    "executionInfo": {
     "elapsed": 4,
     "status": "ok",
     "timestamp": 1754880656961,
     "user": {
      "displayName": "Gaurav Rawat",
      "userId": "15323900345627092462"
     },
     "user_tz": -330
    },
    "id": "4A9PD8_1IjBP",
    "outputId": "dd0287ff-2abc-47c2-fb0e-3a3882b00c56"
   },
   "outputs": [],
   "source": [
    "type(var1)"
   ]
  },
  {
   "cell_type": "code",
   "execution_count": null,
   "metadata": {
    "colab": {
     "base_uri": "https://localhost:8080/"
    },
    "executionInfo": {
     "elapsed": 32,
     "status": "ok",
     "timestamp": 1754880657001,
     "user": {
      "displayName": "Gaurav Rawat",
      "userId": "15323900345627092462"
     },
     "user_tz": -330
    },
    "id": "QX93q_kDI5lv",
    "outputId": "ee3fefe2-9b58-40d3-b29f-00beb8d5d009"
   },
   "outputs": [],
   "source": [
    "type(var2)"
   ]
  },
  {
   "cell_type": "code",
   "execution_count": null,
   "metadata": {
    "colab": {
     "base_uri": "https://localhost:8080/"
    },
    "executionInfo": {
     "elapsed": 22,
     "status": "ok",
     "timestamp": 1754880657024,
     "user": {
      "displayName": "Gaurav Rawat",
      "userId": "15323900345627092462"
     },
     "user_tz": -330
    },
    "id": "vLLKp3k_I7lK",
    "outputId": "72f3ea50-4488-4958-d70e-fcdba7675682"
   },
   "outputs": [],
   "source": [
    "type(var3\n",
    "     )"
   ]
  },
  {
   "cell_type": "code",
   "execution_count": null,
   "metadata": {
    "colab": {
     "base_uri": "https://localhost:8080/"
    },
    "executionInfo": {
     "elapsed": 44,
     "status": "ok",
     "timestamp": 1754880657201,
     "user": {
      "displayName": "Gaurav Rawat",
      "userId": "15323900345627092462"
     },
     "user_tz": -330
    },
    "id": "rPAi_S_0JAWx",
    "outputId": "0c211b16-3b75-40c4-cb47-c3b25cefccf9"
   },
   "outputs": [],
   "source": [
    "type(var4)\n"
   ]
  },
  {
   "cell_type": "markdown",
   "metadata": {
    "id": "ktiSLmNeE1WC"
   },
   "source": [
    "**Conditional Statement**-Python supports if-elif-else for writing conditional statements. The condition should be terminated by : (colon) and the code block following that must be indented. Indentation in Python is not optional. It is a syntax of Python. The conditional statement need not be enclosed with a bracket."
   ]
  },
  {
   "cell_type": "code",
   "execution_count": null,
   "metadata": {
    "colab": {
     "base_uri": "https://localhost:8080/"
    },
    "executionInfo": {
     "elapsed": 5,
     "status": "ok",
     "timestamp": 1754880657207,
     "user": {
      "displayName": "Gaurav Rawat",
      "userId": "15323900345627092462"
     },
     "user_tz": -330
    },
    "id": "ooBRUpaOJDzT",
    "outputId": "c373272e-71ca-44ee-f7a4-176305d58232"
   },
   "outputs": [],
   "source": [
    "if var1 > 1:\n",
    "  print(\"Bigger than 1\")"
   ]
  },
  {
   "cell_type": "code",
   "execution_count": null,
   "metadata": {
    "colab": {
     "base_uri": "https://localhost:8080/"
    },
    "executionInfo": {
     "elapsed": 3,
     "status": "ok",
     "timestamp": 1754880657258,
     "user": {
      "displayName": "Gaurav Rawat",
      "userId": "15323900345627092462"
     },
     "user_tz": -330
    },
    "id": "rUt0yt3yKlnd",
    "outputId": "d82b18f6-7c10-4b4f-b77f-9b5a030bafdf"
   },
   "outputs": [],
   "source": [
    "x=10\n",
    "y=12\n",
    "\n",
    "if x>y:\n",
    "  print(\"x>y\")\n",
    "elif x<y:\n",
    "  print(\"x<y\")\n",
    "else:\n",
    "  print(\"x=y\")"
   ]
  },
  {
   "cell_type": "code",
   "execution_count": null,
   "metadata": {
    "executionInfo": {
     "elapsed": 0,
     "status": "ok",
     "timestamp": 1754880657259,
     "user": {
      "displayName": "Gaurav Rawat",
      "userId": "15323900345627092462"
     },
     "user_tz": -330
    },
    "id": "18z-W4r6K297"
   },
   "outputs": [],
   "source": [
    "isGreater = True if x>9 else False\n"
   ]
  },
  {
   "cell_type": "code",
   "execution_count": null,
   "metadata": {
    "colab": {
     "base_uri": "https://localhost:8080/"
    },
    "executionInfo": {
     "elapsed": 90,
     "status": "ok",
     "timestamp": 1754880657350,
     "user": {
      "displayName": "Gaurav Rawat",
      "userId": "15323900345627092462"
     },
     "user_tz": -330
    },
    "id": "rqoaVyoGLOXq",
    "outputId": "5222fd66-178a-4905-c965-ecfb6123e45a"
   },
   "outputs": [],
   "source": [
    "isGreater"
   ]
  },
  {
   "cell_type": "markdown",
   "metadata": {
    "id": "gytS2S3_FPAr"
   },
   "source": [
    "**The range()** method generates an immutable object that is a sequence of numbers. The range() object can easily be converted into a Python list by enclosing it in the list method."
   ]
  },
  {
   "cell_type": "code",
   "execution_count": null,
   "metadata": {
    "executionInfo": {
     "elapsed": 1,
     "status": "ok",
     "timestamp": 1754880657352,
     "user": {
      "displayName": "Gaurav Rawat",
      "userId": "15323900345627092462"
     },
     "user_tz": -330
    },
    "id": "rwUUQ3S0La3E"
   },
   "outputs": [],
   "source": [
    "number = range(1,10)"
   ]
  },
  {
   "cell_type": "code",
   "execution_count": null,
   "metadata": {
    "colab": {
     "base_uri": "https://localhost:8080/"
    },
    "executionInfo": {
     "elapsed": 3,
     "status": "ok",
     "timestamp": 1754880657356,
     "user": {
      "displayName": "Gaurav Rawat",
      "userId": "15323900345627092462"
     },
     "user_tz": -330
    },
    "id": "kitPT_4EPUw4",
    "outputId": "bcba92a3-8163-43b1-acf4-13b140446d3e"
   },
   "outputs": [],
   "source": [
    "number"
   ]
  },
  {
   "cell_type": "code",
   "execution_count": null,
   "metadata": {
    "colab": {
     "base_uri": "https://localhost:8080/"
    },
    "executionInfo": {
     "elapsed": 3,
     "status": "ok",
     "timestamp": 1754880657360,
     "user": {
      "displayName": "Gaurav Rawat",
      "userId": "15323900345627092462"
     },
     "user_tz": -330
    },
    "id": "mRSyuDZ6PVq0",
    "outputId": "c46b3df3-1b3a-49d3-85ed-e4416d2039cb"
   },
   "outputs": [],
   "source": [
    "print(number)"
   ]
  },
  {
   "cell_type": "markdown",
   "metadata": {
    "id": "EVqvQbiaFzpf"
   },
   "source": [
    "The control flow of a python program is regulated by conditional statements, loops, and functional calls. Python has three types of control structures:\n",
    "\n",
    "Sequential - Default mode\n",
    "Selection - used for decisions and branching\n",
    "Repetition - Used for looping, we generally have two repetitive statements:\n",
    "for loop\n",
    "while loop"
   ]
  },
  {
   "cell_type": "code",
   "execution_count": null,
   "metadata": {
    "colab": {
     "base_uri": "https://localhost:8080/"
    },
    "executionInfo": {
     "elapsed": 3,
     "status": "ok",
     "timestamp": 1754880657363,
     "user": {
      "displayName": "Gaurav Rawat",
      "userId": "15323900345627092462"
     },
     "user_tz": -330
    },
    "id": "UxqWjHIEPc72",
    "outputId": "51f51cef-d12a-4137-a7ea-f7e3a2ef850d"
   },
   "outputs": [],
   "source": [
    "for i in number:\n",
    "  print(i)"
   ]
  },
  {
   "cell_type": "code",
   "execution_count": null,
   "metadata": {
    "colab": {
     "base_uri": "https://localhost:8080/"
    },
    "executionInfo": {
     "elapsed": 3,
     "status": "ok",
     "timestamp": 1754880657366,
     "user": {
      "displayName": "Gaurav Rawat",
      "userId": "15323900345627092462"
     },
     "user_tz": -330
    },
    "id": "yLKryCEwQGaS",
    "outputId": "0ed881af-4290-4e4c-a4a5-da83185e4f56"
   },
   "outputs": [],
   "source": [
    "i =1\n",
    "while i<10:\n",
    "  print(i)\n",
    "  i = i+1\n",
    "print(\"Good bye\")"
   ]
  },
  {
   "cell_type": "code",
   "execution_count": null,
   "metadata": {
    "executionInfo": {
     "elapsed": 23,
     "status": "ok",
     "timestamp": 1754880657389,
     "user": {
      "displayName": "Gaurav Rawat",
      "userId": "15323900345627092462"
     },
     "user_tz": -330
    },
    "id": "iMHZQ3DPQWpD"
   },
   "outputs": [],
   "source": [
    "def addelement(a,b):\n",
    "  return a + b"
   ]
  },
  {
   "cell_type": "code",
   "execution_count": null,
   "metadata": {
    "colab": {
     "base_uri": "https://localhost:8080/"
    },
    "executionInfo": {
     "elapsed": 3,
     "status": "ok",
     "timestamp": 1754880657393,
     "user": {
      "displayName": "Gaurav Rawat",
      "userId": "15323900345627092462"
     },
     "user_tz": -330
    },
    "id": "SN0MgoPudKfD",
    "outputId": "79da1aba-8a70-4b51-9a56-5487ad27748c"
   },
   "outputs": [],
   "source": [
    "result = addelement(10,12)\n",
    "result"
   ]
  },
  {
   "cell_type": "code",
   "execution_count": null,
   "metadata": {
    "executionInfo": {
     "elapsed": 1,
     "status": "ok",
     "timestamp": 1754880657394,
     "user": {
      "displayName": "Gaurav Rawat",
      "userId": "15323900345627092462"
     },
     "user_tz": -330
    },
    "id": "QqLrDRvldQ8r"
   },
   "outputs": [],
   "source": [
    "result = addelement(10.5,20.5)"
   ]
  },
  {
   "cell_type": "code",
   "execution_count": null,
   "metadata": {
    "colab": {
     "base_uri": "https://localhost:8080/"
    },
    "executionInfo": {
     "elapsed": 3,
     "status": "ok",
     "timestamp": 1754880657429,
     "user": {
      "displayName": "Gaurav Rawat",
      "userId": "15323900345627092462"
     },
     "user_tz": -330
    },
    "id": "T8ir9ofPddfh",
    "outputId": "5b75c3cb-a93f-40fc-f099-e2de459668a8"
   },
   "outputs": [],
   "source": [
    "result"
   ]
  },
  {
   "cell_type": "code",
   "execution_count": null,
   "metadata": {
    "colab": {
     "base_uri": "https://localhost:8080/",
     "height": 35
    },
    "executionInfo": {
     "elapsed": 2,
     "status": "ok",
     "timestamp": 1754880657431,
     "user": {
      "displayName": "Gaurav Rawat",
      "userId": "15323900345627092462"
     },
     "user_tz": -330
    },
    "id": "jNZPBUlndlag",
    "outputId": "5ac58088-d712-4082-e49d-351a8ec09c76"
   },
   "outputs": [],
   "source": [
    "result = addelement(\"Machine \", \"Learning\")\n",
    "result"
   ]
  },
  {
   "cell_type": "markdown",
   "metadata": {
    "id": "bfR57A_t6lJt"
   },
   "source": [
    "**Collections** are useful containers and data structures to store and manipulate a list of homogeneous and heterogeneous elements. List, Tuple, Sets, and Dictionary."
   ]
  },
  {
   "cell_type": "markdown",
   "metadata": {
    "id": "OVCKiQYH7BIi"
   },
   "source": [
    "**Lists** are like arrays but can contain heterogeneous elements.A single list can contain items of type integer, float, boolean, or strings.\n",
    "It's also not a unique set of items.The lists are mutable."
   ]
  },
  {
   "cell_type": "code",
   "execution_count": null,
   "metadata": {
    "executionInfo": {
     "elapsed": 1,
     "status": "ok",
     "timestamp": 1754880657432,
     "user": {
      "displayName": "Gaurav Rawat",
      "userId": "15323900345627092462"
     },
     "user_tz": -330
    },
    "id": "QZUhIjjZds_J"
   },
   "outputs": [],
   "source": [
    "batsmen = [\"Rohit\", \"Dhawan\", \"Kohli\", \"Rahane\", \"Rayudu\", \"Dhoni\"]"
   ]
  },
  {
   "cell_type": "code",
   "execution_count": null,
   "metadata": {
    "colab": {
     "base_uri": "https://localhost:8080/",
     "height": 35
    },
    "executionInfo": {
     "elapsed": 51,
     "status": "ok",
     "timestamp": 1754880657483,
     "user": {
      "displayName": "Gaurav Rawat",
      "userId": "15323900345627092462"
     },
     "user_tz": -330
    },
    "id": "JutkMpw-lk1V",
    "outputId": "2578e4f1-a6cf-4950-b37e-baebff954baf"
   },
   "outputs": [],
   "source": [
    "batsmen[0]"
   ]
  },
  {
   "cell_type": "markdown",
   "metadata": {
    "id": "jaxcDK0j7o2u"
   },
   "source": [
    "Slice of the list"
   ]
  },
  {
   "cell_type": "code",
   "execution_count": null,
   "metadata": {
    "colab": {
     "base_uri": "https://localhost:8080/"
    },
    "executionInfo": {
     "elapsed": 3,
     "status": "ok",
     "timestamp": 1754880657486,
     "user": {
      "displayName": "Gaurav Rawat",
      "userId": "15323900345627092462"
     },
     "user_tz": -330
    },
    "id": "aAXZlIpplvTA",
    "outputId": "0fc17046-8848-4493-9d35-f36a41f39b71"
   },
   "outputs": [],
   "source": [
    "batsmen[0:3]"
   ]
  },
  {
   "cell_type": "markdown",
   "metadata": {
    "id": "3ENfwb4r7rq0"
   },
   "source": [
    "Last element"
   ]
  },
  {
   "cell_type": "code",
   "execution_count": null,
   "metadata": {
    "colab": {
     "base_uri": "https://localhost:8080/",
     "height": 35
    },
    "executionInfo": {
     "elapsed": 1,
     "status": "ok",
     "timestamp": 1754880657488,
     "user": {
      "displayName": "Gaurav Rawat",
      "userId": "15323900345627092462"
     },
     "user_tz": -330
    },
    "id": "US3x6d7bly1l",
    "outputId": "22840af0-3f37-40ee-e442-d3257ed1d670"
   },
   "outputs": [],
   "source": [
    "batsmen[-1]"
   ]
  },
  {
   "cell_type": "markdown",
   "metadata": {
    "id": "1-uGqqcr7crX"
   },
   "source": [
    "Length of the list , how many items are there ..."
   ]
  },
  {
   "cell_type": "code",
   "execution_count": null,
   "metadata": {
    "colab": {
     "base_uri": "https://localhost:8080/"
    },
    "executionInfo": {
     "elapsed": 2,
     "status": "ok",
     "timestamp": 1754880657491,
     "user": {
      "displayName": "Gaurav Rawat",
      "userId": "15323900345627092462"
     },
     "user_tz": -330
    },
    "id": "DCHcIh-zl7aJ",
    "outputId": "a7a3a71e-bec7-4200-8d63-c87923d561c2"
   },
   "outputs": [],
   "source": [
    "len(batsmen)"
   ]
  },
  {
   "cell_type": "code",
   "execution_count": null,
   "metadata": {
    "executionInfo": {
     "elapsed": 0,
     "status": "ok",
     "timestamp": 1754880657492,
     "user": {
      "displayName": "Gaurav Rawat",
      "userId": "15323900345627092462"
     },
     "user_tz": -330
    },
    "id": "OTMpvjPOmBsM"
   },
   "outputs": [],
   "source": [
    "bowlers = ['shami','siraj','jadeja','bumrah']"
   ]
  },
  {
   "cell_type": "markdown",
   "metadata": {
    "id": "XyTLCgAB79c5"
   },
   "source": [
    "Concatenation"
   ]
  },
  {
   "cell_type": "code",
   "execution_count": null,
   "metadata": {
    "executionInfo": {
     "elapsed": 1,
     "status": "ok",
     "timestamp": 1754880657493,
     "user": {
      "displayName": "Gaurav Rawat",
      "userId": "15323900345627092462"
     },
     "user_tz": -330
    },
    "id": "rgk9Ap3ynTeV"
   },
   "outputs": [],
   "source": [
    "all_players = batsmen + bowlers"
   ]
  },
  {
   "cell_type": "code",
   "execution_count": null,
   "metadata": {
    "colab": {
     "base_uri": "https://localhost:8080/"
    },
    "executionInfo": {
     "elapsed": 29,
     "status": "ok",
     "timestamp": 1754880657522,
     "user": {
      "displayName": "Gaurav Rawat",
      "userId": "15323900345627092462"
     },
     "user_tz": -330
    },
    "id": "T5uo0TxfnY0J",
    "outputId": "8c1a70e1-01d5-4b7d-f058-1e7662f4e8b9"
   },
   "outputs": [],
   "source": [
    "all_players"
   ]
  },
  {
   "cell_type": "markdown",
   "metadata": {
    "id": "I3HGaePy8LCA"
   },
   "source": [
    "Finding an item in the list using \"in\""
   ]
  },
  {
   "cell_type": "code",
   "execution_count": null,
   "metadata": {
    "colab": {
     "base_uri": "https://localhost:8080/"
    },
    "executionInfo": {
     "elapsed": 4,
     "status": "ok",
     "timestamp": 1754880657526,
     "user": {
      "displayName": "Gaurav Rawat",
      "userId": "15323900345627092462"
     },
     "user_tz": -330
    },
    "id": "YWg0073Pnbr_",
    "outputId": "657abdf3-bbe7-4bb9-b7bb-3f53f03f1ffe"
   },
   "outputs": [],
   "source": [
    "'shami' in bowlers"
   ]
  },
  {
   "cell_type": "code",
   "execution_count": null,
   "metadata": {
    "colab": {
     "base_uri": "https://localhost:8080/"
    },
    "executionInfo": {
     "elapsed": 3,
     "status": "ok",
     "timestamp": 1754880657527,
     "user": {
      "displayName": "Gaurav Rawat",
      "userId": "15323900345627092462"
     },
     "user_tz": -330
    },
    "id": "QapTr-nesGK9",
    "outputId": "93ae2435-e2f5-44b9-ba00-970cbf5aa098"
   },
   "outputs": [],
   "source": [
    "'shami' in batsmen"
   ]
  },
  {
   "cell_type": "markdown",
   "metadata": {
    "id": "UKPVXeEO8Y5t"
   },
   "source": [
    "Index of an item in the list"
   ]
  },
  {
   "cell_type": "code",
   "execution_count": null,
   "metadata": {
    "colab": {
     "base_uri": "https://localhost:8080/"
    },
    "executionInfo": {
     "elapsed": 3,
     "status": "ok",
     "timestamp": 1754880657529,
     "user": {
      "displayName": "Gaurav Rawat",
      "userId": "15323900345627092462"
     },
     "user_tz": -330
    },
    "id": "e8PkEtDRsRRI",
    "outputId": "523d1c9d-dd4a-413b-963a-74f04a109779"
   },
   "outputs": [],
   "source": [
    "all_players.index(\"Rahane\")"
   ]
  },
  {
   "cell_type": "markdown",
   "metadata": {
    "id": "YjMHMIKY8jg2"
   },
   "source": [
    "  The items in an list can be arranged in reverse order by calling reverse function on the list."
   ]
  },
  {
   "cell_type": "code",
   "execution_count": null,
   "metadata": {
    "executionInfo": {
     "elapsed": 1,
     "status": "ok",
     "timestamp": 1754880657530,
     "user": {
      "displayName": "Gaurav Rawat",
      "userId": "15323900345627092462"
     },
     "user_tz": -330
    },
    "id": "bFm2vWTRsXP6"
   },
   "outputs": [],
   "source": [
    "all_players.reverse()"
   ]
  },
  {
   "cell_type": "code",
   "execution_count": null,
   "metadata": {
    "colab": {
     "base_uri": "https://localhost:8080/"
    },
    "executionInfo": {
     "elapsed": 41,
     "status": "ok",
     "timestamp": 1754880657577,
     "user": {
      "displayName": "Gaurav Rawat",
      "userId": "15323900345627092462"
     },
     "user_tz": -330
    },
    "id": "9MhoqkYfsgIH",
    "outputId": "6ef94fa7-c518-46cf-970d-c59be6d13e90"
   },
   "outputs": [],
   "source": [
    "all_players"
   ]
  },
  {
   "cell_type": "markdown",
   "metadata": {
    "id": "dK7-GZRR9RB_"
   },
   "source": [
    " **Tuples** Tuple is also a list, but it is immutable. Once a tuple has been created it can not be modified anymore. For example, create a tuple which can contain the name of a cricketer and the year of his ODI debut."
   ]
  },
  {
   "cell_type": "code",
   "execution_count": null,
   "metadata": {
    "executionInfo": {
     "elapsed": 26,
     "status": "ok",
     "timestamp": 1754880657577,
     "user": {
      "displayName": "Gaurav Rawat",
      "userId": "15323900345627092462"
     },
     "user_tz": -330
    },
    "id": "pe3Ku_Nqsh1t"
   },
   "outputs": [],
   "source": [
    "odiDebut = ('Kohli',2008)"
   ]
  },
  {
   "cell_type": "code",
   "execution_count": null,
   "metadata": {
    "colab": {
     "base_uri": "https://localhost:8080/"
    },
    "executionInfo": {
     "elapsed": 25,
     "status": "ok",
     "timestamp": 1754880657577,
     "user": {
      "displayName": "Gaurav Rawat",
      "userId": "15323900345627092462"
     },
     "user_tz": -330
    },
    "id": "bV8ceOsptNHx",
    "outputId": "074e3ca0-1894-4a25-80c2-0e0e522919f8"
   },
   "outputs": [],
   "source": [
    "odiDebut"
   ]
  },
  {
   "cell_type": "code",
   "execution_count": null,
   "metadata": {
    "colab": {
     "base_uri": "https://localhost:8080/",
     "height": 35
    },
    "executionInfo": {
     "elapsed": 52,
     "status": "ok",
     "timestamp": 1754880657607,
     "user": {
      "displayName": "Gaurav Rawat",
      "userId": "15323900345627092462"
     },
     "user_tz": -330
    },
    "id": "k5hO46zltQ4W",
    "outputId": "64a0d409-ea69-4b02-c450-3f02ea547c1b"
   },
   "outputs": [],
   "source": [
    "odiDebut[0]"
   ]
  },
  {
   "cell_type": "markdown",
   "metadata": {
    "id": "zO4qmdvQ9xCb"
   },
   "source": [
    "   **Set**\n",
    "A set is a collection of unique elements i.e. the values can not repeat. A set can be initialized with a list items enclosed with curly brackets."
   ]
  },
  {
   "cell_type": "code",
   "execution_count": null,
   "metadata": {
    "executionInfo": {
     "elapsed": 31,
     "status": "ok",
     "timestamp": 1754880657607,
     "user": {
      "displayName": "Gaurav Rawat",
      "userId": "15323900345627092462"
     },
     "user_tz": -330
    },
    "id": "D9HS6p9AtYDu"
   },
   "outputs": [],
   "source": [
    "setOfnumbers = {6,1,1,2,4,5}"
   ]
  },
  {
   "cell_type": "markdown",
   "metadata": {
    "id": "Ce3mPaAB97Uh"
   },
   "source": [
    "\n",
    "    Set automatically removes duplicates. Set contains only unique list of numbers."
   ]
  },
  {
   "cell_type": "code",
   "execution_count": null,
   "metadata": {
    "colab": {
     "base_uri": "https://localhost:8080/"
    },
    "executionInfo": {
     "elapsed": 3,
     "status": "ok",
     "timestamp": 1754880657607,
     "user": {
      "displayName": "Gaurav Rawat",
      "userId": "15323900345627092462"
     },
     "user_tz": -330
    },
    "id": "Mz7rd3GqwoEE",
    "outputId": "30bdf962-1378-4b48-c8ef-400b1e6830c4"
   },
   "outputs": [],
   "source": [
    "setOfnumbers"
   ]
  },
  {
   "cell_type": "markdown",
   "metadata": {
    "id": "8idmUzth-EHT"
   },
   "source": [
    "   Set supports operations like union, intersection and difference.\n",
    "\n",
    "  To understand theses operations, let's create two Sets with list of batsmen played for India in 2011 and 2015 world cup teams."
   ]
  },
  {
   "cell_type": "code",
   "execution_count": null,
   "metadata": {
    "executionInfo": {
     "elapsed": 15,
     "status": "ok",
     "timestamp": 1754880657621,
     "user": {
      "displayName": "Gaurav Rawat",
      "userId": "15323900345627092462"
     },
     "user_tz": -330
    },
    "id": "_TKkNOKTwuxB"
   },
   "outputs": [],
   "source": [
    "wc2011 = {\"Dhoni\", \"Sehwag\",\"Tendulkar\",\"Gambhir\",\"Kohli\",\"Raina\",\"Yuvraj\",\"Yusuf\"}"
   ]
  },
  {
   "cell_type": "code",
   "execution_count": null,
   "metadata": {
    "executionInfo": {
     "elapsed": 50,
     "status": "ok",
     "timestamp": 1754880657672,
     "user": {
      "displayName": "Gaurav Rawat",
      "userId": "15323900345627092462"
     },
     "user_tz": -330
    },
    "id": "2GzaUyXQw6_W"
   },
   "outputs": [],
   "source": [
    "wc2015 = {\"Dhoni\", \"Dhawan\",\"Rohit\",\"Rahane\",\"Kohli\",\"Raina\",\"Rayudu\",\"Jadeja\"}"
   ]
  },
  {
   "cell_type": "markdown",
   "metadata": {
    "id": "ANaSAgVs-JEc"
   },
   "source": [
    "Union"
   ]
  },
  {
   "cell_type": "code",
   "execution_count": null,
   "metadata": {
    "colab": {
     "base_uri": "https://localhost:8080/"
    },
    "executionInfo": {
     "elapsed": 6,
     "status": "ok",
     "timestamp": 1754880657672,
     "user": {
      "displayName": "Gaurav Rawat",
      "userId": "15323900345627092462"
     },
     "user_tz": -330
    },
    "id": "mTp-7WnTw9yM",
    "outputId": "d244e185-3f3c-4295-bd71-c2f8d8cbb57b"
   },
   "outputs": [],
   "source": [
    "wc2011.union(wc2015)"
   ]
  },
  {
   "cell_type": "markdown",
   "metadata": {
    "id": "otYAcJ-S-K1S"
   },
   "source": [
    "Intersection"
   ]
  },
  {
   "cell_type": "code",
   "execution_count": null,
   "metadata": {
    "colab": {
     "base_uri": "https://localhost:8080/"
    },
    "executionInfo": {
     "elapsed": 3,
     "status": "ok",
     "timestamp": 1754880657672,
     "user": {
      "displayName": "Gaurav Rawat",
      "userId": "15323900345627092462"
     },
     "user_tz": -330
    },
    "id": "ZnYahkIExA5o",
    "outputId": "25dd766c-6ab9-4f11-c99a-0d63b724ef27"
   },
   "outputs": [],
   "source": [
    "wc2011.intersection(wc2015)"
   ]
  },
  {
   "cell_type": "markdown",
   "metadata": {
    "id": "cJxnnsAm-Qw2"
   },
   "source": [
    "Difference"
   ]
  },
  {
   "cell_type": "code",
   "execution_count": null,
   "metadata": {
    "colab": {
     "base_uri": "https://localhost:8080/"
    },
    "executionInfo": {
     "elapsed": 5,
     "status": "ok",
     "timestamp": 1754880657676,
     "user": {
      "displayName": "Gaurav Rawat",
      "userId": "15323900345627092462"
     },
     "user_tz": -330
    },
    "id": "bqcZDnP-xMps",
    "outputId": "b235fc0b-4bfd-481f-9fb0-3576033db481"
   },
   "outputs": [],
   "source": [
    "wc2011.difference(wc2015)"
   ]
  },
  {
   "cell_type": "markdown",
   "metadata": {
    "id": "gsnNcfbb38Fz"
   },
   "source": [
    "**Dictionary** is a list of key and value pairs.See the example below from WC cricket . All the keys in the dictionary are unique.They cannot be repeated.\n"
   ]
  },
  {
   "cell_type": "code",
   "execution_count": null,
   "metadata": {
    "executionInfo": {
     "elapsed": 1,
     "status": "ok",
     "timestamp": 1754880657676,
     "user": {
      "displayName": "Gaurav Rawat",
      "userId": "15323900345627092462"
     },
     "user_tz": -330
    },
    "id": "Fz6uB9_DxUiP"
   },
   "outputs": [],
   "source": [
    "wcWinners = {1975:\"West Indies\",\n",
    "             1979:\"West Indies\",\n",
    "             1983:\"India\",\n",
    "             1987:\"Australia\",\n",
    "             1991:\"Pakistan\",\n",
    "             1991:\"Srilanka\",\n",
    "             1996:\"Australia\",\n",
    "             1999:\"Australia\",\n",
    "             2003:\"Australia\",\n",
    "             2007:\"Australia\",\n",
    "             2011:\"India\"}\n"
   ]
  },
  {
   "cell_type": "markdown",
   "metadata": {
    "id": "_D519uRG5RZm"
   },
   "source": [
    "Value of specific dictionary can be access by the key."
   ]
  },
  {
   "cell_type": "code",
   "execution_count": null,
   "metadata": {
    "colab": {
     "base_uri": "https://localhost:8080/",
     "height": 35
    },
    "executionInfo": {
     "elapsed": 28,
     "status": "ok",
     "timestamp": 1754880657704,
     "user": {
      "displayName": "Gaurav Rawat",
      "userId": "15323900345627092462"
     },
     "user_tz": -330
    },
    "id": "JaZKtia34_Lw",
    "outputId": "45623c76-7597-438d-ea04-33a2b39b8d37"
   },
   "outputs": [],
   "source": [
    "wcWinners[1983]"
   ]
  },
  {
   "cell_type": "code",
   "execution_count": null,
   "metadata": {
    "colab": {
     "base_uri": "https://localhost:8080/"
    },
    "executionInfo": {
     "elapsed": 5,
     "status": "ok",
     "timestamp": 1754880657709,
     "user": {
      "displayName": "Gaurav Rawat",
      "userId": "15323900345627092462"
     },
     "user_tz": -330
    },
    "id": "bjbWkh305KIo",
    "outputId": "cf1e8040-ff7b-4a3a-d38f-44afaf074982"
   },
   "outputs": [],
   "source": [
    "wcWinners.values()"
   ]
  },
  {
   "cell_type": "markdown",
   "metadata": {
    "id": "cK9IpaXy5spY"
   },
   "source": [
    "Unique list"
   ]
  },
  {
   "cell_type": "code",
   "execution_count": null,
   "metadata": {
    "colab": {
     "base_uri": "https://localhost:8080/"
    },
    "executionInfo": {
     "elapsed": 9,
     "status": "ok",
     "timestamp": 1754880657717,
     "user": {
      "displayName": "Gaurav Rawat",
      "userId": "15323900345627092462"
     },
     "user_tz": -330
    },
    "id": "rhdqnUEb5jYY",
    "outputId": "d8d001da-35aa-407d-ba6e-9e98b4888689"
   },
   "outputs": [],
   "source": [
    "set(wcWinners.values())"
   ]
  },
  {
   "cell_type": "markdown",
   "metadata": {
    "id": "esMxjHtU55aH"
   },
   "source": [
    "Add a new key value pair\n"
   ]
  },
  {
   "cell_type": "code",
   "execution_count": null,
   "metadata": {
    "executionInfo": {
     "elapsed": 5,
     "status": "ok",
     "timestamp": 1754880657717,
     "user": {
      "displayName": "Gaurav Rawat",
      "userId": "15323900345627092462"
     },
     "user_tz": -330
    },
    "id": "AYycYCSY5rIT"
   },
   "outputs": [],
   "source": [
    "wcWinners[2015] = 'Australia'"
   ]
  },
  {
   "cell_type": "code",
   "execution_count": null,
   "metadata": {
    "colab": {
     "base_uri": "https://localhost:8080/"
    },
    "executionInfo": {
     "elapsed": 5,
     "status": "ok",
     "timestamp": 1754880657718,
     "user": {
      "displayName": "Gaurav Rawat",
      "userId": "15323900345627092462"
     },
     "user_tz": -330
    },
    "id": "mBnjOL6S6EhQ",
    "outputId": "bcc03e5c-5008-4ba1-89ec-d00301e986e8"
   },
   "outputs": [],
   "source": [
    "wcWinners"
   ]
  },
  {
   "cell_type": "markdown",
   "metadata": {
    "id": "H21Ogn_c-dQq"
   },
   "source": [
    "\n",
    "  Dealing with **Strings** A string in python can be initialized with a single or double quote."
   ]
  },
  {
   "cell_type": "code",
   "execution_count": null,
   "metadata": {
    "executionInfo": {
     "elapsed": 14,
     "status": "ok",
     "timestamp": 1754880657730,
     "user": {
      "displayName": "Gaurav Rawat",
      "userId": "15323900345627092462"
     },
     "user_tz": -330
    },
    "id": "royRvTb56GHp"
   },
   "outputs": [],
   "source": [
    "string0 = 'python'\n",
    "string1 = 'ML'"
   ]
  },
  {
   "cell_type": "markdown",
   "metadata": {
    "id": "qNKCuA5a-9EF"
   },
   "source": [
    "\n",
    "  If multiline, the string can be initialized with triple quotes as below."
   ]
  },
  {
   "cell_type": "code",
   "execution_count": null,
   "metadata": {
    "executionInfo": {
     "elapsed": 2,
     "status": "ok",
     "timestamp": 1754880657730,
     "user": {
      "displayName": "Gaurav Rawat",
      "userId": "15323900345627092462"
     },
     "user_tz": -330
    },
    "id": "fCVP-eci-z2S"
   },
   "outputs": [],
   "source": [
    "string2 = \"\"\" Machine Learning\n",
    "is powerfull \"\"\""
   ]
  },
  {
   "cell_type": "markdown",
   "metadata": {
    "id": "BCtrlM37_M4p"
   },
   "source": [
    "convert string to upper case/lowercase"
   ]
  },
  {
   "cell_type": "code",
   "execution_count": null,
   "metadata": {
    "colab": {
     "base_uri": "https://localhost:8080/",
     "height": 35
    },
    "executionInfo": {
     "elapsed": 2,
     "status": "ok",
     "timestamp": 1754880657731,
     "user": {
      "displayName": "Gaurav Rawat",
      "userId": "15323900345627092462"
     },
     "user_tz": -330
    },
    "id": "klaxNqvc_J0u",
    "outputId": "afff43d9-c084-4c80-bc69-8e98299c9e26"
   },
   "outputs": [],
   "source": [
    "string0.upper()"
   ]
  },
  {
   "cell_type": "code",
   "execution_count": null,
   "metadata": {
    "colab": {
     "base_uri": "https://localhost:8080/",
     "height": 35
    },
    "executionInfo": {
     "elapsed": 2,
     "status": "ok",
     "timestamp": 1754880657732,
     "user": {
      "displayName": "Gaurav Rawat",
      "userId": "15323900345627092462"
     },
     "user_tz": -330
    },
    "id": "UaMmBaeY_Tor",
    "outputId": "a4080493-9819-4423-b81e-49a48a92630c"
   },
   "outputs": [],
   "source": [
    "string0.lower()"
   ]
  },
  {
   "cell_type": "markdown",
   "metadata": {
    "id": "S63LCjLT_lhc"
   },
   "source": [
    "\n",
    "  Splitting the string into a list of words or tokens separated by space."
   ]
  },
  {
   "cell_type": "code",
   "execution_count": null,
   "metadata": {
    "executionInfo": {
     "elapsed": 4,
     "status": "ok",
     "timestamp": 1754880657757,
     "user": {
      "displayName": "Gaurav Rawat",
      "userId": "15323900345627092462"
     },
     "user_tz": -330
    },
    "id": "B2ZjQId4_Y9s"
   },
   "outputs": [],
   "source": [
    "tokens = string2.split(' ')"
   ]
  },
  {
   "cell_type": "code",
   "execution_count": null,
   "metadata": {
    "colab": {
     "base_uri": "https://localhost:8080/"
    },
    "executionInfo": {
     "elapsed": 3,
     "status": "ok",
     "timestamp": 1754880657757,
     "user": {
      "displayName": "Gaurav Rawat",
      "userId": "15323900345627092462"
     },
     "user_tz": -330
    },
    "id": "uVgSYGxd_x_U",
    "outputId": "8dc77366-2637-418e-f69a-b687951cfe7d"
   },
   "outputs": [],
   "source": [
    "tokens"
   ]
  },
  {
   "cell_type": "code",
   "execution_count": null,
   "metadata": {
    "executionInfo": {
     "elapsed": 2,
     "status": "ok",
     "timestamp": 1754880657758,
     "user": {
      "displayName": "Gaurav Rawat",
      "userId": "15323900345627092462"
     },
     "user_tz": -330
    },
    "id": "f48k8FsJ_zCB"
   },
   "outputs": [],
   "source": []
  },
  {
   "cell_type": "markdown",
   "metadata": {
    "id": "E9p3OcMzBY3q"
   },
   "source": [
    "**Functional programming:** Functional programming supports\n",
    "functions being passed as a parameter to another functions\n",
    "like variables and create higher order functions.\n",
    "One benefit of functional programming in\n",
    "data analysis is applying transformations or\n",
    "filters to a set of records or column values\n",
    "more efficiently than using plain looping.\n"
   ]
  },
  {
   "cell_type": "markdown",
   "metadata": {
    "id": "hzQEQHV1ubAO"
   },
   "source": [
    "To make the processing of iterable objects like lists and iterator much easier, Python has implemented some commonly used Higher-Order Functions. These functions return an iterator that is space efficient. Some of the built-in higher-order functions are:\n",
    "\n",
    "·       **Map()**: map() function returns a list of the results after applying the given function to each item of a given iterable (list, tuple, etc.)\n",
    "\n",
    "·         **filter()**: The filter() method filters the given sequence with the help of a function that tests each element in the sequence to be true or not."
   ]
  },
  {
   "cell_type": "markdown",
   "metadata": {
    "id": "f7qF4phbBnk3"
   },
   "source": [
    "\n",
    "  Example 1: Map\n",
    "\n",
    "  Let's say have a list named intList and contains integers as defined below."
   ]
  },
  {
   "cell_type": "code",
   "execution_count": null,
   "metadata": {
    "executionInfo": {
     "elapsed": 1,
     "status": "ok",
     "timestamp": 1754880657759,
     "user": {
      "displayName": "Gaurav Rawat",
      "userId": "15323900345627092462"
     },
     "user_tz": -330
    },
    "id": "qsXZH7CMBbHp"
   },
   "outputs": [],
   "source": [
    "intList = [1,2,3,4,5,6,7,8,9]"
   ]
  },
  {
   "cell_type": "markdown",
   "metadata": {
    "id": "2I_hsygpCBqM"
   },
   "source": [
    "\n",
    "And we want to create another list named squareList, which will contain the squared value all elements in intList. Typical approach to accomplish this is to\n",
    "write a for loop as below."
   ]
  },
  {
   "cell_type": "code",
   "execution_count": null,
   "metadata": {
    "colab": {
     "base_uri": "https://localhost:8080/"
    },
    "executionInfo": {
     "elapsed": 3,
     "status": "ok",
     "timestamp": 1754880657762,
     "user": {
      "displayName": "Gaurav Rawat",
      "userId": "15323900345627092462"
     },
     "user_tz": -330
    },
    "id": "glFxnkw5B1Ey",
    "outputId": "38c96a0a-5f78-49cb-a231-cc5a454d0c16"
   },
   "outputs": [],
   "source": [
    "#Initializes an empty\n",
    "squareList = []\n",
    "for x in intList:\n",
    "#Inside the loop, it calculates the square of x using the power function.\n",
    "  squareList.append(pow(x,2))\n",
    "print(squareList)"
   ]
  },
  {
   "cell_type": "markdown",
   "metadata": {
    "id": "Dd6R9RruDGBT"
   },
   "source": [
    "We can make code more efficient"
   ]
  },
  {
   "cell_type": "code",
   "execution_count": null,
   "metadata": {
    "executionInfo": {
     "elapsed": 14,
     "status": "ok",
     "timestamp": 1754880657776,
     "user": {
      "displayName": "Gaurav Rawat",
      "userId": "15323900345627092462"
     },
     "user_tz": -330
    },
    "id": "yeexyHB9CMJ7"
   },
   "outputs": [],
   "source": [
    "# define a function square_me() and return square value\n",
    "def square_me(x):\n",
    "  return x * x"
   ]
  },
  {
   "cell_type": "code",
   "execution_count": null,
   "metadata": {
    "executionInfo": {
     "elapsed": 0,
     "status": "ok",
     "timestamp": 1754880657777,
     "user": {
      "displayName": "Gaurav Rawat",
      "userId": "15323900345627092462"
     },
     "user_tz": -330
    },
    "id": "pzZUfSl4Dk1Y"
   },
   "outputs": [],
   "source": [
    "# The function square_me and the list of integers can be passed to a higher order function map.\n",
    "# map iterates through the list and transforms each element using the function.\n",
    "\n",
    "squareList = map(square_me, intList)"
   ]
  },
  {
   "cell_type": "code",
   "execution_count": null,
   "metadata": {
    "colab": {
     "base_uri": "https://localhost:8080/"
    },
    "executionInfo": {
     "elapsed": 8,
     "status": "ok",
     "timestamp": 1754880657786,
     "user": {
      "displayName": "Gaurav Rawat",
      "userId": "15323900345627092462"
     },
     "user_tz": -330
    },
    "id": "3i6Rf5K1D9Pm",
    "outputId": "39318380-e7d9-4ffa-b2b6-e7d26365b8d3"
   },
   "outputs": [],
   "source": [
    "list(squareList)"
   ]
  },
  {
   "cell_type": "markdown",
   "metadata": {
    "id": "7Jg76gmdEeSO"
   },
   "source": [
    "  The square function square_me, we used, is just one line of code and can actually be written as an anonymous function. Anonymous function is a function\n",
    " without a name and is defined using lambda keyword.\n",
    "\n",
    "\n",
    "  Write the above map using anonymous function."
   ]
  },
  {
   "cell_type": "code",
   "execution_count": null,
   "metadata": {
    "colab": {
     "base_uri": "https://localhost:8080/"
    },
    "executionInfo": {
     "elapsed": 2,
     "status": "ok",
     "timestamp": 1754880657789,
     "user": {
      "displayName": "Gaurav Rawat",
      "userId": "15323900345627092462"
     },
     "user_tz": -330
    },
    "id": "quSWwZBsEFiU",
    "outputId": "6374d5b0-4fe2-4af3-8da3-f87ac447ce68"
   },
   "outputs": [],
   "source": [
    "squareList = map(lambda x: x*x, intList)\n",
    "list(squareList)"
   ]
  },
  {
   "cell_type": "markdown",
   "metadata": {
    "id": "TVlFvVFQEyfk"
   },
   "source": [
    "\n",
    "**Example 2: Filter**\n",
    "Filters can also be applied using functional programming. For example, if we want to select only the even numbers from the list intList.\n",
    "\n",
    "\n",
    "The higher order function filter® takes another function argument, which returns True or False. If returns False, the element will be filtered out. To verify if an integer is even, we can use filter x % 2 == 0."
   ]
  },
  {
   "cell_type": "code",
   "execution_count": null,
   "metadata": {
    "executionInfo": {
     "elapsed": 0,
     "status": "ok",
     "timestamp": 1754880657790,
     "user": {
      "displayName": "Gaurav Rawat",
      "userId": "15323900345627092462"
     },
     "user_tz": -330
    },
    "id": "OyO8MmyIElyx"
   },
   "outputs": [],
   "source": [
    "evenInts = filter(lambda x: x % 2 == 0, intList)"
   ]
  },
  {
   "cell_type": "code",
   "execution_count": null,
   "metadata": {
    "colab": {
     "base_uri": "https://localhost:8080/"
    },
    "executionInfo": {
     "elapsed": 3,
     "status": "ok",
     "timestamp": 1754880657793,
     "user": {
      "displayName": "Gaurav Rawat",
      "userId": "15323900345627092462"
     },
     "user_tz": -330
    },
    "id": "kwxTzRmVFHuV",
    "outputId": "27f68fa5-bc5f-4fdb-c822-4a931d8d6d87"
   },
   "outputs": [],
   "source": [
    "list(evenInts)"
   ]
  },
  {
   "cell_type": "markdown",
   "metadata": {
    "id": "FnQUnZIIvShn"
   },
   "source": [
    "Python has a way to put definitions in a file and use them in a script or an interactive instance of the interpreter. Such a file is called a **module**; definitions from a module can be imported into other modules or the main module. A module is a file containing Python definitions and statements. The file name is the module name with the suffix .py appended. Within a module, the module’s name (as a string) is available as the value of the global variable __ name __.\n",
    "\n"
   ]
  },
  {
   "cell_type": "markdown",
   "metadata": {
    "id": "p2AeXyLov0kZ"
   },
   "source": [
    "**Packages** allow for a hierarchical structuring of the module namespace using dot notation. In the same way that modules help avoid collisions between global variables names, packages help avoid collisions between module names. Creating a package is quite straightforward since it makes use of the operating system's inherent hierarchical file structure."
   ]
  },
  {
   "cell_type": "markdown",
   "metadata": {
    "id": "9fXyObtEwVuc"
   },
   "source": [
    "In python a module is a file that contains\n",
    "functions, classes, and variables.\n",
    "A set models under a namespace like a directory is called a package."
   ]
  },
  {
   "cell_type": "markdown",
   "metadata": {
    "id": "l9En0KdUwLeM"
   },
   "source": [
    "The module and packages can be imported using the import statement."
   ]
  },
  {
   "cell_type": "code",
   "execution_count": null,
   "metadata": {
    "colab": {
     "base_uri": "https://localhost:8080/"
    },
    "executionInfo": {
     "elapsed": 2,
     "status": "ok",
     "timestamp": 1754880657796,
     "user": {
      "displayName": "Gaurav Rawat",
      "userId": "15323900345627092462"
     },
     "user_tz": -330
    },
    "id": "1Bh3Hg_QwMLR",
    "outputId": "07765eb4-c512-4cfe-8b4b-0dd779eb8a19"
   },
   "outputs": [],
   "source": [
    "#to use mathematical operations we can import math module.\n",
    "import math\n",
    "math.sqrt(25)"
   ]
  },
  {
   "cell_type": "code",
   "execution_count": null,
   "metadata": {
    "colab": {
     "base_uri": "https://localhost:8080/"
    },
    "executionInfo": {
     "elapsed": 4,
     "status": "ok",
     "timestamp": 1754880657800,
     "user": {
      "displayName": "Gaurav Rawat",
      "userId": "15323900345627092462"
     },
     "user_tz": -330
    },
    "id": "OUkKIeZcwunZ",
    "outputId": "9d40af2d-b1df-46ec-fa17-4b8b9ef39ab6"
   },
   "outputs": [],
   "source": [
    "# And we can also import specific modules from the packages\n",
    "from random import sample\n",
    "sample(range(0, 11), 3)\n"
   ]
  },
  {
   "cell_type": "code",
   "execution_count": null,
   "metadata": {
    "colab": {
     "base_uri": "https://localhost:8080/"
    },
    "executionInfo": {
     "elapsed": 4,
     "status": "ok",
     "timestamp": 1754880657803,
     "user": {
      "displayName": "Gaurav Rawat",
      "userId": "15323900345627092462"
     },
     "user_tz": -330
    },
    "id": "jKuMZ3fdxgJJ",
    "outputId": "c83a5a05-abd1-46ee-df4f-793bbce276b3"
   },
   "outputs": [],
   "source": [
    "#to return multiple values from a function using a tuple\n",
    "import random\n",
    "randomList = random.sample(range(0, 100), 20)\n",
    "randomList"
   ]
  },
  {
   "cell_type": "code",
   "execution_count": null,
   "metadata": {
    "executionInfo": {
     "elapsed": 14,
     "status": "ok",
     "timestamp": 1754880657817,
     "user": {
      "displayName": "Gaurav Rawat",
      "userId": "15323900345627092462"
     },
     "user_tz": -330
    },
    "id": "ld_5SCCux5C0"
   },
   "outputs": [],
   "source": [
    "#we want to estimate the mean and the median of those numbers.\n",
    "\n",
    "from statistics import mean, median\n",
    "\n",
    "def getMeanAndMedian(listNum):\n",
    "  return mean(listNum), median(listNum)"
   ]
  },
  {
   "cell_type": "code",
   "execution_count": null,
   "metadata": {
    "executionInfo": {
     "elapsed": 0,
     "status": "ok",
     "timestamp": 1754880657818,
     "user": {
      "displayName": "Gaurav Rawat",
      "userId": "15323900345627092462"
     },
     "user_tz": -330
    },
    "id": "z0tMI7VGygZG"
   },
   "outputs": [],
   "source": [
    "mean, median = getMeanAndMedian(randomList)"
   ]
  },
  {
   "cell_type": "code",
   "execution_count": null,
   "metadata": {
    "colab": {
     "base_uri": "https://localhost:8080/"
    },
    "executionInfo": {
     "elapsed": 12,
     "status": "ok",
     "timestamp": 1754880657830,
     "user": {
      "displayName": "Gaurav Rawat",
      "userId": "15323900345627092462"
     },
     "user_tz": -330
    },
    "id": "_8dBlEIayuGb",
    "outputId": "243412a6-1e7a-4d0c-a39f-f4418ac51fa4"
   },
   "outputs": [],
   "source": [
    "print(\"mean:\",mean,\"median:\",median)"
   ]
  },
  {
   "cell_type": "code",
   "execution_count": null,
   "metadata": {
    "executionInfo": {
     "elapsed": 0,
     "status": "ok",
     "timestamp": 1754880657831,
     "user": {
      "displayName": "Gaurav Rawat",
      "userId": "15323900345627092462"
     },
     "user_tz": -330
    },
    "id": "lAP9fErJy2gg"
   },
   "outputs": [],
   "source": []
  }
 ],
 "metadata": {
  "colab": {
   "authorship_tag": "ABX9TyOM2uAKXn9UPzEBWO6PrCxe",
   "provenance": []
  },
  "kernelspec": {
   "display_name": "Python 3",
   "name": "python3"
  },
  "language_info": {
   "codemirror_mode": {
    "name": "ipython",
    "version": 3
   },
   "file_extension": ".py",
   "mimetype": "text/x-python",
   "name": "python",
   "nbconvert_exporter": "python",
   "pygments_lexer": "ipython3",
   "version": "3.12.1"
  }
 },
 "nbformat": 4,
 "nbformat_minor": 0
}
